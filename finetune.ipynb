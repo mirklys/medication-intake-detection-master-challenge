{
 "cells": [
  {
   "cell_type": "code",
   "execution_count": 2,
   "id": "ab21d24a",
   "metadata": {},
   "outputs": [],
   "source": [
    "from transformers import SiglipForImageClassification, AutoImageProcessor\n",
    "import os\n",
    "import pandas as pd\n",
    "from PIL import Image\n",
    "from datasets import Dataset\n",
    "from transformers import Trainer, TrainingArguments\n",
    "import numpy as np\n",
    "import torch\n",
    "import evaluate\n",
    "from torch import nn"
   ]
  },
  {
   "cell_type": "code",
   "execution_count": 3,
   "id": "c38ea36f",
   "metadata": {},
   "outputs": [],
   "source": [
    "device = (torch.device(\"cuda\" if torch.cuda.is_available() else \"cpu\"))"
   ]
  },
  {
   "cell_type": "code",
   "execution_count": 4,
   "id": "6a0ad2c1",
   "metadata": {},
   "outputs": [],
   "source": [
    "id2label = {0: \"not_taking_medication\", 1: \"taking_medication\"}\n",
    "label2id = {\"not_taking_medication\": 0, \"taking_medication\": 1}\n",
    "\n",
    "df = pd.read_csv(\"frames_annotations.csv\")\n",
    "df['label'] = df['label'].map(label2id)\n",
    "\n",
    "dataset = Dataset.from_dict({ \n",
    "    \"image\": df['image'].values,\n",
    "    \"label\": df['label'].values\n",
    "})"
   ]
  },
  {
   "cell_type": "code",
   "execution_count": 6,
   "id": "c45ded4d",
   "metadata": {},
   "outputs": [
    {
     "name": "stderr",
     "output_type": "stream",
     "text": [
      "Some weights of SiglipForImageClassification were not initialized from the model checkpoint at prithivMLmods/Human-Action-Recognition and are newly initialized because the shapes did not match:\n",
      "- classifier.bias: found shape torch.Size([15]) in the checkpoint and torch.Size([2]) in the model instantiated\n",
      "- classifier.weight: found shape torch.Size([15, 768]) in the checkpoint and torch.Size([2, 768]) in the model instantiated\n",
      "You should probably TRAIN this model on a down-stream task to be able to use it for predictions and inference.\n",
      "Using a slow image processor as `use_fast` is unset and a slow processor was saved with this model. `use_fast=True` will be the default behavior in v4.52, even if the model was saved with a slow processor. This will result in minor differences in outputs. You'll still be able to use a slow processor with `use_fast=False`.\n"
     ]
    }
   ],
   "source": [
    "model = SiglipForImageClassification.from_pretrained(\n",
    "    \"prithivMLmods/Human-Action-Recognition\", \n",
    "    num_labels=2, # changing the model to be a binary classifier instead\n",
    "    id2label=id2label, \n",
    "    label2id=label2id, \n",
    "    ignore_mismatched_sizes=True,\n",
    "    problem_type=\"single_label_classification\"\n",
    ")\n",
    "processor = AutoImageProcessor.from_pretrained(\"prithivMLmods/Human-Action-Recognition\")\n",
    "\n",
    "# the output will give a warning, but this can be safely ignored: the original model had 15 classes, \n",
    "# this one has 2 causing a shape mismatch, but it is all good"
   ]
  },
  {
   "cell_type": "code",
   "execution_count": 7,
   "id": "02a5111d",
   "metadata": {},
   "outputs": [
    {
     "data": {
      "application/vnd.jupyter.widget-view+json": {
       "model_id": "478bd971ecd24e06b4025b6c4e01fec2",
       "version_major": 2,
       "version_minor": 0
      },
      "text/plain": [
       "Map:   0%|          | 0/850 [00:00<?, ? examples/s]"
      ]
     },
     "metadata": {},
     "output_type": "display_data"
    }
   ],
   "source": [
    "def preprocess(example):\n",
    "    image = Image.open(example[\"image\"]).convert(\"RGB\")\n",
    "    inputs = processor(images=image, return_tensors=\"pt\")\n",
    "    inputs[\"label\"] = example[\"label\"]\n",
    "    return {\n",
    "        \"pixel_values\": inputs[\"pixel_values\"][0],\n",
    "        \"label\": int(example[\"label\"])\n",
    "    }\n",
    "\n",
    "# converts all images to arrays of pixel values\n",
    "dataset = dataset.map(preprocess)\n",
    "\n",
    "dataset = dataset.train_test_split(test_size=0.1)"
   ]
  },
  {
   "cell_type": "code",
   "execution_count": 8,
   "id": "f8416ffc",
   "metadata": {},
   "outputs": [],
   "source": [
    "accuracy = evaluate.load(\"accuracy\")\n",
    "precision = evaluate.load(\"precision\")\n",
    "recall = evaluate.load(\"recall\")\n",
    "f1 = evaluate.load(\"f1\")\n",
    "\n",
    "def compute_metrics(eval_pred):\n",
    "    logits, labels = eval_pred\n",
    "    preds = logits.argmax(-1)\n",
    "\n",
    "    acc = accuracy.compute(predictions=preds, references=labels)\n",
    "    prec = precision.compute(predictions=preds, references=labels, average=\"binary\")\n",
    "    rec = recall.compute(predictions=preds, references=labels, average=\"binary\")\n",
    "    f1_score = f1.compute(predictions=preds, references=labels, average=\"binary\")\n",
    "\n",
    "    return {\n",
    "        \"accuracy\": acc[\"accuracy\"],\n",
    "        \"precision\": prec[\"precision\"],\n",
    "        \"recall\": rec[\"recall\"],\n",
    "        \"f1\": f1_score[\"f1\"]\n",
    "    }"
   ]
  },
  {
   "cell_type": "code",
   "execution_count": 9,
   "id": "2030c48a",
   "metadata": {},
   "outputs": [],
   "source": [
    "training_args = TrainingArguments(\n",
    "    output_dir=\"./HAR-medication-finetuned_v2\",\n",
    "    per_device_train_batch_size=16,\n",
    "    eval_strategy=\"epoch\",\n",
    "    save_strategy=\"epoch\",\n",
    "    num_train_epochs=5,\n",
    "    logging_dir=\"./logs\",\n",
    "    logging_steps=10,\n",
    "    hub_model_id=\"Adekiii/HAR-medication-finetuned_v2\",\n",
    "    load_best_model_at_end=True,\n",
    "    metric_for_best_model=\"accuracy\"\n",
    ")\n",
    "\n",
    "trainer = Trainer(\n",
    "    model=model,\n",
    "    args=training_args,\n",
    "    train_dataset=dataset[\"train\"],\n",
    "    eval_dataset=dataset[\"test\"],\n",
    "    compute_metrics=compute_metrics\n",
    ")"
   ]
  },
  {
   "cell_type": "code",
   "execution_count": 10,
   "id": "263c6e9d",
   "metadata": {},
   "outputs": [
    {
     "data": {
      "text/html": [
       "\n",
       "    <div>\n",
       "      \n",
       "      <progress value='240' max='240' style='width:300px; height:20px; vertical-align: middle;'></progress>\n",
       "      [240/240 06:30, Epoch 5/5]\n",
       "    </div>\n",
       "    <table border=\"1\" class=\"dataframe\">\n",
       "  <thead>\n",
       " <tr style=\"text-align: left;\">\n",
       "      <th>Epoch</th>\n",
       "      <th>Training Loss</th>\n",
       "      <th>Validation Loss</th>\n",
       "      <th>Accuracy</th>\n",
       "      <th>Precision</th>\n",
       "      <th>Recall</th>\n",
       "      <th>F1</th>\n",
       "    </tr>\n",
       "  </thead>\n",
       "  <tbody>\n",
       "    <tr>\n",
       "      <td>1</td>\n",
       "      <td>0.406400</td>\n",
       "      <td>0.260571</td>\n",
       "      <td>0.894118</td>\n",
       "      <td>0.714286</td>\n",
       "      <td>0.416667</td>\n",
       "      <td>0.526316</td>\n",
       "    </tr>\n",
       "    <tr>\n",
       "      <td>2</td>\n",
       "      <td>0.463000</td>\n",
       "      <td>0.398692</td>\n",
       "      <td>0.858824</td>\n",
       "      <td>0.000000</td>\n",
       "      <td>0.000000</td>\n",
       "      <td>0.000000</td>\n",
       "    </tr>\n",
       "    <tr>\n",
       "      <td>3</td>\n",
       "      <td>0.205100</td>\n",
       "      <td>0.186737</td>\n",
       "      <td>0.917647</td>\n",
       "      <td>0.647059</td>\n",
       "      <td>0.916667</td>\n",
       "      <td>0.758621</td>\n",
       "    </tr>\n",
       "    <tr>\n",
       "      <td>4</td>\n",
       "      <td>0.223400</td>\n",
       "      <td>0.346711</td>\n",
       "      <td>0.894118</td>\n",
       "      <td>0.615385</td>\n",
       "      <td>0.666667</td>\n",
       "      <td>0.640000</td>\n",
       "    </tr>\n",
       "    <tr>\n",
       "      <td>5</td>\n",
       "      <td>0.031600</td>\n",
       "      <td>0.434357</td>\n",
       "      <td>0.905882</td>\n",
       "      <td>0.611111</td>\n",
       "      <td>0.916667</td>\n",
       "      <td>0.733333</td>\n",
       "    </tr>\n",
       "  </tbody>\n",
       "</table><p>"
      ],
      "text/plain": [
       "<IPython.core.display.HTML object>"
      ]
     },
     "metadata": {},
     "output_type": "display_data"
    },
    {
     "name": "stderr",
     "output_type": "stream",
     "text": [
      "c:\\Users\\ademk\\AppData\\Local\\Programs\\Python\\Python310\\lib\\site-packages\\sklearn\\metrics\\_classification.py:1344: UndefinedMetricWarning: Precision is ill-defined and being set to 0.0 due to no predicted samples. Use `zero_division` parameter to control this behavior.\n",
      "  _warn_prf(average, modifier, msg_start, len(result))\n"
     ]
    },
    {
     "data": {
      "text/plain": [
       "TrainOutput(global_step=240, training_loss=0.3138491948445638, metrics={'train_runtime': 394.231, 'train_samples_per_second': 9.702, 'train_steps_per_second': 0.609, 'total_flos': 3.203647715165184e+17, 'train_loss': 0.3138491948445638, 'epoch': 5.0})"
      ]
     },
     "execution_count": 10,
     "metadata": {},
     "output_type": "execute_result"
    }
   ],
   "source": [
    "trainer.train()"
   ]
  },
  {
   "cell_type": "code",
   "execution_count": 11,
   "id": "0aa83ffa",
   "metadata": {},
   "outputs": [
    {
     "data": {
      "text/plain": [
       "['./HAR-med-finetuned_v2\\\\preprocessor_config.json']"
      ]
     },
     "execution_count": 11,
     "metadata": {},
     "output_type": "execute_result"
    }
   ],
   "source": [
    "trainer.save_model(\"./HAR-med-finetuned_v2\")\n",
    "processor.save_pretrained(\"./HAR-med-finetuned_v2\")"
   ]
  },
  {
   "cell_type": "code",
   "execution_count": null,
   "id": "c01f732a",
   "metadata": {},
   "outputs": [
    {
     "data": {
      "application/vnd.jupyter.widget-view+json": {
       "model_id": "92c1c3506deb493fac37e364fb8b84f5",
       "version_major": 2,
       "version_minor": 0
      },
      "text/plain": [
       "model.safetensors:   0%|          | 0.00/372M [00:00<?, ?B/s]"
      ]
     },
     "metadata": {},
     "output_type": "display_data"
    },
    {
     "data": {
      "application/vnd.jupyter.widget-view+json": {
       "model_id": "98bd915d9eac4d51bf4cfb13f2149589",
       "version_major": 2,
       "version_minor": 0
      },
      "text/plain": [
       "training_args.bin:   0%|          | 0.00/5.71k [00:00<?, ?B/s]"
      ]
     },
     "metadata": {},
     "output_type": "display_data"
    },
    {
     "data": {
      "application/vnd.jupyter.widget-view+json": {
       "model_id": "2584451f1b464167bec40d2b4e1d09ee",
       "version_major": 2,
       "version_minor": 0
      },
      "text/plain": [
       "Upload 2 LFS files:   0%|          | 0/2 [00:00<?, ?it/s]"
      ]
     },
     "metadata": {},
     "output_type": "display_data"
    },
    {
     "data": {
      "text/plain": [
       "CommitInfo(commit_url='https://huggingface.co/Adekiii/HAR-medication-finetuned_v2/commit/c346152e4d9d2f6bbabbee131a8a1b390f0e39a6', commit_message='Upload folder using huggingface_hub', commit_description='', oid='c346152e4d9d2f6bbabbee131a8a1b390f0e39a6', pr_url=None, repo_url=RepoUrl('https://huggingface.co/Adekiii/HAR-medication-finetuned_v2', endpoint='https://huggingface.co', repo_type='model', repo_id='Adekiii/HAR-medication-finetuned_v2'), pr_revision=None, pr_num=None)"
      ]
     },
     "execution_count": 12,
     "metadata": {},
     "output_type": "execute_result"
    }
   ],
   "source": [
    "from huggingface_hub import HfApi\n",
    "\n",
    "access_token = \"___\"\n",
    "\n",
    "api = HfApi(token=access_token)\n",
    "api.upload_folder(\n",
    "    folder_path=\"HAR-med-finetuned_v2\",\n",
    "    repo_id=\"Adekiii/HAR-medication-finetuned_v2\", # change with own repo\n",
    "    repo_type=\"model\",\n",
    ")"
   ]
  }
 ],
 "metadata": {
  "kernelspec": {
   "display_name": "Python 3",
   "language": "python",
   "name": "python3"
  },
  "language_info": {
   "codemirror_mode": {
    "name": "ipython",
    "version": 3
   },
   "file_extension": ".py",
   "mimetype": "text/x-python",
   "name": "python",
   "nbconvert_exporter": "python",
   "pygments_lexer": "ipython3",
   "version": "3.10.6"
  }
 },
 "nbformat": 4,
 "nbformat_minor": 5
}
