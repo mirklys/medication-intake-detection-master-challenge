{
 "cells": [
  {
   "cell_type": "code",
   "execution_count": 2,
   "id": "68fb329d",
   "metadata": {},
   "outputs": [],
   "source": [
    "import pandas as pd\n",
    "import numpy "
   ]
  },
  {
   "cell_type": "code",
   "execution_count": 3,
   "id": "bccf3799",
   "metadata": {},
   "outputs": [],
   "source": [
    "df = pd.read_csv('/home/tamvan/medication-intake-detection-master-challenge/frames_annotations.csv')"
   ]
  },
  {
   "cell_type": "code",
   "execution_count": 14,
   "id": "9861e362",
   "metadata": {},
   "outputs": [
    {
     "name": "stdout",
     "output_type": "stream",
     "text": [
      "(850, 2)\n"
     ]
    }
   ],
   "source": [
    "print(df.shape)"
   ]
  },
  {
   "cell_type": "code",
   "execution_count": 12,
   "id": "51395c51",
   "metadata": {},
   "outputs": [
    {
     "name": "stdout",
     "output_type": "stream",
     "text": [
      "134\n",
      "716\n"
     ]
    }
   ],
   "source": [
    "print(sum(df['label'] == 'taking_medication'))\n",
    "print(sum(df['label'] == 'not_taking_medication'))"
   ]
  },
  {
   "cell_type": "code",
   "execution_count": 13,
   "id": "25e8e4e5",
   "metadata": {},
   "outputs": [
    {
     "name": "stdout",
     "output_type": "stream",
     "text": [
      "0.1871508379888268\n"
     ]
    }
   ],
   "source": [
    "print(134/716)"
   ]
  },
  {
   "cell_type": "code",
   "execution_count": null,
   "id": "f0faf69c",
   "metadata": {},
   "outputs": [],
   "source": []
  }
 ],
 "metadata": {
  "kernelspec": {
   "display_name": "Python 3",
   "language": "python",
   "name": "python3"
  },
  "language_info": {
   "codemirror_mode": {
    "name": "ipython",
    "version": 3
   },
   "file_extension": ".py",
   "mimetype": "text/x-python",
   "name": "python",
   "nbconvert_exporter": "python",
   "pygments_lexer": "ipython3",
   "version": "3.10.12"
  }
 },
 "nbformat": 4,
 "nbformat_minor": 5
}
