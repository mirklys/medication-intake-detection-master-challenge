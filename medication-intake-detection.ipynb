{
 "cells": [
  {
   "cell_type": "code",
   "execution_count": 1,
   "metadata": {
    "execution": {
     "iopub.execute_input": "2025-04-24T07:30:06.880141Z",
     "iopub.status.busy": "2025-04-24T07:30:06.879766Z",
     "iopub.status.idle": "2025-04-24T07:30:15.179766Z",
     "shell.execute_reply": "2025-04-24T07:30:15.178204Z",
     "shell.execute_reply.started": "2025-04-24T07:30:06.880116Z"
    },
    "trusted": true
   },
   "outputs": [
    {
     "name": "stdout",
     "output_type": "stream",
     "text": [
      "Requirement already satisfied: mediapy in /home/giedriusmirklys/miniconda3/envs/neuro/lib/python3.12/site-packages (1.2.3)\n",
      "Requirement already satisfied: ipython in /home/giedriusmirklys/miniconda3/envs/neuro/lib/python3.12/site-packages (from mediapy) (9.1.0)\n",
      "Requirement already satisfied: matplotlib in /home/giedriusmirklys/miniconda3/envs/neuro/lib/python3.12/site-packages (from mediapy) (3.10.1)\n",
      "Requirement already satisfied: numpy in /home/giedriusmirklys/miniconda3/envs/neuro/lib/python3.12/site-packages (from mediapy) (2.2.4)\n",
      "Requirement already satisfied: Pillow in /home/giedriusmirklys/miniconda3/envs/neuro/lib/python3.12/site-packages (from mediapy) (11.1.0)\n",
      "Requirement already satisfied: decorator in /home/giedriusmirklys/miniconda3/envs/neuro/lib/python3.12/site-packages (from ipython->mediapy) (5.2.1)\n",
      "Requirement already satisfied: ipython-pygments-lexers in /home/giedriusmirklys/miniconda3/envs/neuro/lib/python3.12/site-packages (from ipython->mediapy) (1.1.1)\n",
      "Requirement already satisfied: jedi>=0.16 in /home/giedriusmirklys/miniconda3/envs/neuro/lib/python3.12/site-packages (from ipython->mediapy) (0.19.2)\n",
      "Requirement already satisfied: matplotlib-inline in /home/giedriusmirklys/miniconda3/envs/neuro/lib/python3.12/site-packages (from ipython->mediapy) (0.1.7)\n",
      "Requirement already satisfied: pexpect>4.3 in /home/giedriusmirklys/miniconda3/envs/neuro/lib/python3.12/site-packages (from ipython->mediapy) (4.9.0)\n",
      "Requirement already satisfied: prompt_toolkit<3.1.0,>=3.0.41 in /home/giedriusmirklys/miniconda3/envs/neuro/lib/python3.12/site-packages (from ipython->mediapy) (3.0.50)\n",
      "Requirement already satisfied: pygments>=2.4.0 in /home/giedriusmirklys/miniconda3/envs/neuro/lib/python3.12/site-packages (from ipython->mediapy) (2.19.1)\n",
      "Requirement already satisfied: stack_data in /home/giedriusmirklys/miniconda3/envs/neuro/lib/python3.12/site-packages (from ipython->mediapy) (0.6.3)\n",
      "Requirement already satisfied: traitlets>=5.13.0 in /home/giedriusmirklys/miniconda3/envs/neuro/lib/python3.12/site-packages (from ipython->mediapy) (5.14.3)\n",
      "Requirement already satisfied: contourpy>=1.0.1 in /home/giedriusmirklys/miniconda3/envs/neuro/lib/python3.12/site-packages (from matplotlib->mediapy) (1.3.1)\n",
      "Requirement already satisfied: cycler>=0.10 in /home/giedriusmirklys/miniconda3/envs/neuro/lib/python3.12/site-packages (from matplotlib->mediapy) (0.12.1)\n",
      "Requirement already satisfied: fonttools>=4.22.0 in /home/giedriusmirklys/miniconda3/envs/neuro/lib/python3.12/site-packages (from matplotlib->mediapy) (4.57.0)\n",
      "Requirement already satisfied: kiwisolver>=1.3.1 in /home/giedriusmirklys/miniconda3/envs/neuro/lib/python3.12/site-packages (from matplotlib->mediapy) (1.4.8)\n",
      "Requirement already satisfied: packaging>=20.0 in /home/giedriusmirklys/miniconda3/envs/neuro/lib/python3.12/site-packages (from matplotlib->mediapy) (24.2)\n",
      "Requirement already satisfied: pyparsing>=2.3.1 in /home/giedriusmirklys/miniconda3/envs/neuro/lib/python3.12/site-packages (from matplotlib->mediapy) (3.2.3)\n",
      "Requirement already satisfied: python-dateutil>=2.7 in /home/giedriusmirklys/miniconda3/envs/neuro/lib/python3.12/site-packages (from matplotlib->mediapy) (2.9.0.post0)\n",
      "Requirement already satisfied: parso<0.9.0,>=0.8.4 in /home/giedriusmirklys/miniconda3/envs/neuro/lib/python3.12/site-packages (from jedi>=0.16->ipython->mediapy) (0.8.4)\n",
      "Requirement already satisfied: ptyprocess>=0.5 in /home/giedriusmirklys/miniconda3/envs/neuro/lib/python3.12/site-packages (from pexpect>4.3->ipython->mediapy) (0.7.0)\n",
      "Requirement already satisfied: wcwidth in /home/giedriusmirklys/miniconda3/envs/neuro/lib/python3.12/site-packages (from prompt_toolkit<3.1.0,>=3.0.41->ipython->mediapy) (0.2.13)\n",
      "Requirement already satisfied: six>=1.5 in /home/giedriusmirklys/miniconda3/envs/neuro/lib/python3.12/site-packages (from python-dateutil>=2.7->matplotlib->mediapy) (1.17.0)\n",
      "Requirement already satisfied: executing>=1.2.0 in /home/giedriusmirklys/miniconda3/envs/neuro/lib/python3.12/site-packages (from stack_data->ipython->mediapy) (2.2.0)\n",
      "Requirement already satisfied: asttokens>=2.1.0 in /home/giedriusmirklys/miniconda3/envs/neuro/lib/python3.12/site-packages (from stack_data->ipython->mediapy) (3.0.0)\n",
      "Requirement already satisfied: pure-eval in /home/giedriusmirklys/miniconda3/envs/neuro/lib/python3.12/site-packages (from stack_data->ipython->mediapy) (0.2.3)\n",
      "Requirement already satisfied: gdown in /home/giedriusmirklys/miniconda3/envs/neuro/lib/python3.12/site-packages (5.2.0)\n",
      "Requirement already satisfied: beautifulsoup4 in /home/giedriusmirklys/miniconda3/envs/neuro/lib/python3.12/site-packages (from gdown) (4.13.3)\n",
      "Requirement already satisfied: filelock in /home/giedriusmirklys/miniconda3/envs/neuro/lib/python3.12/site-packages (from gdown) (3.13.1)\n",
      "Requirement already satisfied: requests[socks] in /home/giedriusmirklys/miniconda3/envs/neuro/lib/python3.12/site-packages (from gdown) (2.32.3)\n",
      "Requirement already satisfied: tqdm in /home/giedriusmirklys/miniconda3/envs/neuro/lib/python3.12/site-packages (from gdown) (4.67.1)\n",
      "Requirement already satisfied: soupsieve>1.2 in /home/giedriusmirklys/miniconda3/envs/neuro/lib/python3.12/site-packages (from beautifulsoup4->gdown) (2.6)\n",
      "Requirement already satisfied: typing-extensions>=4.0.0 in /home/giedriusmirklys/miniconda3/envs/neuro/lib/python3.12/site-packages (from beautifulsoup4->gdown) (4.12.2)\n",
      "Requirement already satisfied: charset-normalizer<4,>=2 in /home/giedriusmirklys/miniconda3/envs/neuro/lib/python3.12/site-packages (from requests[socks]->gdown) (3.3.2)\n",
      "Requirement already satisfied: idna<4,>=2.5 in /home/giedriusmirklys/miniconda3/envs/neuro/lib/python3.12/site-packages (from requests[socks]->gdown) (3.7)\n",
      "Requirement already satisfied: urllib3<3,>=1.21.1 in /home/giedriusmirklys/miniconda3/envs/neuro/lib/python3.12/site-packages (from requests[socks]->gdown) (2.3.0)\n",
      "Requirement already satisfied: certifi>=2017.4.17 in /home/giedriusmirklys/miniconda3/envs/neuro/lib/python3.12/site-packages (from requests[socks]->gdown) (2025.1.31)\n",
      "Requirement already satisfied: PySocks!=1.5.7,>=1.5.6 in /home/giedriusmirklys/miniconda3/envs/neuro/lib/python3.12/site-packages (from requests[socks]->gdown) (1.7.1)\n"
     ]
    }
   ],
   "source": [
    "!pip install mediapy\n",
    "!pip install -U gdown"
   ]
  },
  {
   "cell_type": "code",
   "execution_count": 2,
   "metadata": {
    "execution": {
     "iopub.execute_input": "2025-04-24T07:30:15.182224Z",
     "iopub.status.busy": "2025-04-24T07:30:15.181833Z",
     "iopub.status.idle": "2025-04-24T07:30:15.231043Z",
     "shell.execute_reply": "2025-04-24T07:30:15.230090Z",
     "shell.execute_reply.started": "2025-04-24T07:30:15.182190Z"
    },
    "trusted": true
   },
   "outputs": [],
   "source": [
    "import os\n",
    "from zipfile import ZipFile \n",
    "import mediapy as media\n",
    "\n",
    "# pytorch dataset\n",
    "from torch.utils.data import Dataset\n",
    "import torch\n",
    "import torchvision.transforms as transforms\n",
    "import numpy as np\n",
    "import cv2\n",
    "import matplotlib.pyplot as plt\n",
    "import pandas as pd\n",
    "from collections import defaultdict"
   ]
  },
  {
   "cell_type": "markdown",
   "metadata": {},
   "source": [
    "## Get raw videos from google drive"
   ]
  },
  {
   "cell_type": "code",
   "execution_count": 3,
   "metadata": {
    "execution": {
     "iopub.execute_input": "2025-04-24T07:26:31.779214Z",
     "iopub.status.busy": "2025-04-24T07:26:31.778997Z",
     "iopub.status.idle": "2025-04-24T07:26:46.577421Z",
     "shell.execute_reply": "2025-04-24T07:26:46.576198Z",
     "shell.execute_reply.started": "2025-04-24T07:26:31.779196Z"
    },
    "trusted": true
   },
   "outputs": [
    {
     "name": "stdout",
     "output_type": "stream",
     "text": [
      "Retrieving folder contents\n",
      "Retrieving folder 11BvoNE9dgq-qPrLqQED5P1N3UU9EP8vN data\n",
      "Retrieving folder 1Sv_zHg8Ds2B7RDphAZVRpO2R-fpBnwz7 raw videos\n",
      "Processing file 1ENHn_C8em0Y0pRAEMXU5kvIQ-SZm8Qe8 Dataset_AI_Masterchallange 2025-20250424T063117Z-001.zip\n",
      "Retrieving folder contents completed\n",
      "Building directory structure\n",
      "Building directory structure completed\n",
      "Downloading...\n",
      "From (original): https://drive.google.com/uc?id=1ENHn_C8em0Y0pRAEMXU5kvIQ-SZm8Qe8\n",
      "From (redirected): https://drive.google.com/uc?id=1ENHn_C8em0Y0pRAEMXU5kvIQ-SZm8Qe8&confirm=t&uuid=dab1f0ba-c7af-4fc0-a00b-d3c0ad47658b\n",
      "To: /home/giedriusmirklys/medication-intake-detection-master-challenge/AI in PWF/data/raw videos/Dataset_AI_Masterchallange 2025-20250424T063117Z-001.zip\n",
      "100%|██████████████████████████████████████| 1.99G/1.99G [01:30<00:00, 22.1MB/s]\n",
      "Download completed\n"
     ]
    }
   ],
   "source": [
    "!gdown https://drive.google.com/drive/folders/1Y8W5yiAxTDiRzx_9-caqa9dNhmo4dYcS --folder "
   ]
  },
  {
   "cell_type": "code",
   "execution_count": 4,
   "metadata": {
    "execution": {
     "iopub.execute_input": "2025-04-24T07:26:46.580592Z",
     "iopub.status.busy": "2025-04-24T07:26:46.580300Z",
     "iopub.status.idle": "2025-04-24T07:26:46.587847Z",
     "shell.execute_reply": "2025-04-24T07:26:46.586482Z",
     "shell.execute_reply.started": "2025-04-24T07:26:46.580566Z"
    },
    "trusted": true
   },
   "outputs": [],
   "source": [
    "PATH_CWD = os.getcwd()\n",
    "PATH_DATA = os.path.join(PATH_CWD + \"/AI in PWF/data/\")"
   ]
  },
  {
   "cell_type": "code",
   "execution_count": 9,
   "metadata": {},
   "outputs": [
    {
     "data": {
      "text/plain": [
       "'/home/giedriusmirklys/medication-intake-detection-master-challenge/AI in PWF/data/'"
      ]
     },
     "execution_count": 9,
     "metadata": {},
     "output_type": "execute_result"
    }
   ],
   "source": [
    "PATH_DATA"
   ]
  },
  {
   "cell_type": "code",
   "execution_count": 5,
   "metadata": {
    "execution": {
     "iopub.execute_input": "2025-04-24T07:26:46.589565Z",
     "iopub.status.busy": "2025-04-24T07:26:46.589206Z",
     "iopub.status.idle": "2025-04-24T07:26:54.290596Z",
     "shell.execute_reply": "2025-04-24T07:26:54.289653Z",
     "shell.execute_reply.started": "2025-04-24T07:26:46.589535Z"
    },
    "trusted": true
   },
   "outputs": [],
   "source": [
    "video_zip_file = PATH_DATA + \"raw videos/Dataset_AI_Masterchallange 2025-20250424T063117Z-001.zip\"\n",
    "with ZipFile(video_zip_file, \"r\") as video_zip:\n",
    "    video_zip.extractall(path=PATH_DATA+\"raw videos\")"
   ]
  },
  {
   "cell_type": "code",
   "execution_count": 6,
   "metadata": {
    "execution": {
     "iopub.execute_input": "2025-04-24T07:26:54.292272Z",
     "iopub.status.busy": "2025-04-24T07:26:54.291925Z",
     "iopub.status.idle": "2025-04-24T07:26:54.810784Z",
     "shell.execute_reply": "2025-04-24T07:26:54.809533Z",
     "shell.execute_reply.started": "2025-04-24T07:26:54.292229Z"
    },
    "trusted": true
   },
   "outputs": [],
   "source": [
    "# os.remove(video_zip_file)"
   ]
  },
  {
   "cell_type": "markdown",
   "metadata": {},
   "source": [
    "## Helper functions"
   ]
  },
  {
   "cell_type": "code",
   "execution_count": 10,
   "metadata": {
    "execution": {
     "iopub.execute_input": "2025-04-24T07:31:24.062878Z",
     "iopub.status.busy": "2025-04-24T07:31:24.062526Z",
     "iopub.status.idle": "2025-04-24T07:31:24.069211Z",
     "shell.execute_reply": "2025-04-24T07:31:24.067734Z",
     "shell.execute_reply.started": "2025-04-24T07:31:24.062855Z"
    },
    "trusted": true
   },
   "outputs": [],
   "source": [
    "def play_video(fname):\n",
    "    fname = PATH_DATA + fname\n",
    "    video = media.read_video(fname)\n",
    "    media.show_video(video, title=fname.split(\"/\")[-1].split(\".\")[0], fps=60, width=500)"
   ]
  },
  {
   "cell_type": "code",
   "execution_count": 11,
   "metadata": {
    "execution": {
     "iopub.execute_input": "2025-04-24T07:31:26.350413Z",
     "iopub.status.busy": "2025-04-24T07:31:26.350125Z",
     "iopub.status.idle": "2025-04-24T07:32:26.820223Z",
     "shell.execute_reply": "2025-04-24T07:32:26.818836Z",
     "shell.execute_reply.started": "2025-04-24T07:31:26.350394Z"
    },
    "trusted": true
   },
   "outputs": [
    {
     "ename": "RuntimeError",
     "evalue": "Error writing '/tmp/tmpi2cbo1yt/file.mp4': [libopenh264 @ 0x565682cec080] Incorrect library version loaded\nError initializing output stream 0:0 -- Error while opening encoder for output stream #0:0 - maybe incorrect parameters such as bit_rate, rate, width or height\n",
     "output_type": "error",
     "traceback": [
      "\u001b[31m---------------------------------------------------------------------------\u001b[39m",
      "\u001b[31mBrokenPipeError\u001b[39m                           Traceback (most recent call last)",
      "\u001b[36mFile \u001b[39m\u001b[32m~/miniconda3/envs/neuro/lib/python3.12/site-packages/mediapy/__init__.py:1757\u001b[39m, in \u001b[36mwrite_video\u001b[39m\u001b[34m(path, images, **kwargs)\u001b[39m\n\u001b[32m   1756\u001b[39m \u001b[38;5;28;01mfor\u001b[39;00m image \u001b[38;5;129;01min\u001b[39;00m images:\n\u001b[32m-> \u001b[39m\u001b[32m1757\u001b[39m   \u001b[43mwriter\u001b[49m\u001b[43m.\u001b[49m\u001b[43madd_image\u001b[49m\u001b[43m(\u001b[49m\u001b[43mimage\u001b[49m\u001b[43m)\u001b[49m\n",
      "\u001b[36mFile \u001b[39m\u001b[32m~/miniconda3/envs/neuro/lib/python3.12/site-packages/mediapy/__init__.py:1661\u001b[39m, in \u001b[36mVideoWriter.add_image\u001b[39m\u001b[34m(self, image)\u001b[39m\n\u001b[32m   1660\u001b[39m \u001b[38;5;28;01massert\u001b[39;00m stdin \u001b[38;5;129;01mis\u001b[39;00m \u001b[38;5;129;01mnot\u001b[39;00m \u001b[38;5;28;01mNone\u001b[39;00m\n\u001b[32m-> \u001b[39m\u001b[32m1661\u001b[39m \u001b[38;5;28;01mif\u001b[39;00m \u001b[43mstdin\u001b[49m\u001b[43m.\u001b[49m\u001b[43mwrite\u001b[49m\u001b[43m(\u001b[49m\u001b[43mdata\u001b[49m\u001b[43m)\u001b[49m != \u001b[38;5;28mlen\u001b[39m(data):\n\u001b[32m   1662\u001b[39m   \u001b[38;5;28mself\u001b[39m._proc.wait()\n",
      "\u001b[31mBrokenPipeError\u001b[39m: [Errno 32] Broken pipe",
      "\nDuring handling of the above exception, another exception occurred:\n",
      "\u001b[31mRuntimeError\u001b[39m                              Traceback (most recent call last)",
      "\u001b[36mCell\u001b[39m\u001b[36m \u001b[39m\u001b[32mIn[11]\u001b[39m\u001b[32m, line 1\u001b[39m\n\u001b[32m----> \u001b[39m\u001b[32m1\u001b[39m \u001b[43mplay_video\u001b[49m\u001b[43m(\u001b[49m\u001b[33;43m\"\u001b[39;49m\u001b[33;43mraw videos/Dataset_AI_Masterchallange 2025/video_20250328_011625.mp4\u001b[39;49m\u001b[33;43m\"\u001b[39;49m\u001b[43m)\u001b[49m\n",
      "\u001b[36mCell\u001b[39m\u001b[36m \u001b[39m\u001b[32mIn[10]\u001b[39m\u001b[32m, line 4\u001b[39m, in \u001b[36mplay_video\u001b[39m\u001b[34m(fname)\u001b[39m\n\u001b[32m      2\u001b[39m fname = PATH_DATA + fname\n\u001b[32m      3\u001b[39m video = media.read_video(fname)\n\u001b[32m----> \u001b[39m\u001b[32m4\u001b[39m \u001b[43mmedia\u001b[49m\u001b[43m.\u001b[49m\u001b[43mshow_video\u001b[49m\u001b[43m(\u001b[49m\u001b[43mvideo\u001b[49m\u001b[43m,\u001b[49m\u001b[43m \u001b[49m\u001b[43mtitle\u001b[49m\u001b[43m=\u001b[49m\u001b[43mfname\u001b[49m\u001b[43m.\u001b[49m\u001b[43msplit\u001b[49m\u001b[43m(\u001b[49m\u001b[33;43m\"\u001b[39;49m\u001b[33;43m/\u001b[39;49m\u001b[33;43m\"\u001b[39;49m\u001b[43m)\u001b[49m\u001b[43m[\u001b[49m\u001b[43m-\u001b[49m\u001b[32;43m1\u001b[39;49m\u001b[43m]\u001b[49m\u001b[43m.\u001b[49m\u001b[43msplit\u001b[49m\u001b[43m(\u001b[49m\u001b[33;43m\"\u001b[39;49m\u001b[33;43m.\u001b[39;49m\u001b[33;43m\"\u001b[39;49m\u001b[43m)\u001b[49m\u001b[43m[\u001b[49m\u001b[32;43m0\u001b[39;49m\u001b[43m]\u001b[49m\u001b[43m,\u001b[49m\u001b[43m \u001b[49m\u001b[43mfps\u001b[49m\u001b[43m=\u001b[49m\u001b[32;43m60\u001b[39;49m\u001b[43m,\u001b[49m\u001b[43m \u001b[49m\u001b[43mwidth\u001b[49m\u001b[43m=\u001b[49m\u001b[32;43m500\u001b[39;49m\u001b[43m)\u001b[49m\n",
      "\u001b[36mFile \u001b[39m\u001b[32m~/miniconda3/envs/neuro/lib/python3.12/site-packages/mediapy/__init__.py:1866\u001b[39m, in \u001b[36mshow_video\u001b[39m\u001b[34m(images, title, **kwargs)\u001b[39m\n\u001b[32m   1843\u001b[39m \u001b[38;5;28;01mdef\u001b[39;00m\u001b[38;5;250m \u001b[39m\u001b[34mshow_video\u001b[39m(\n\u001b[32m   1844\u001b[39m     images: Iterable[_NDArray], *, title: \u001b[38;5;28mstr\u001b[39m | \u001b[38;5;28;01mNone\u001b[39;00m = \u001b[38;5;28;01mNone\u001b[39;00m, **kwargs: Any\n\u001b[32m   1845\u001b[39m ) -> \u001b[38;5;28mstr\u001b[39m | \u001b[38;5;28;01mNone\u001b[39;00m:\n\u001b[32m   1846\u001b[39m \u001b[38;5;250m  \u001b[39m\u001b[33;03m\"\"\"Displays a video in the IPython notebook and optionally saves it to a file.\u001b[39;00m\n\u001b[32m   1847\u001b[39m \n\u001b[32m   1848\u001b[39m \u001b[33;03m  See `show_videos`.\u001b[39;00m\n\u001b[32m   (...)\u001b[39m\u001b[32m   1864\u001b[39m \u001b[33;03m    html string if `return_html` is `True`.\u001b[39;00m\n\u001b[32m   1865\u001b[39m \u001b[33;03m  \"\"\"\u001b[39;00m\n\u001b[32m-> \u001b[39m\u001b[32m1866\u001b[39m   \u001b[38;5;28;01mreturn\u001b[39;00m \u001b[43mshow_videos\u001b[49m\u001b[43m(\u001b[49m\u001b[43m[\u001b[49m\u001b[43mimages\u001b[49m\u001b[43m]\u001b[49m\u001b[43m,\u001b[49m\u001b[43m \u001b[49m\u001b[43m[\u001b[49m\u001b[43mtitle\u001b[49m\u001b[43m]\u001b[49m\u001b[43m,\u001b[49m\u001b[43m \u001b[49m\u001b[43m*\u001b[49m\u001b[43m*\u001b[49m\u001b[43mkwargs\u001b[49m\u001b[43m)\u001b[49m\n",
      "\u001b[36mFile \u001b[39m\u001b[32m~/miniconda3/envs/neuro/lib/python3.12/site-packages/mediapy/__init__.py:1948\u001b[39m, in \u001b[36mshow_videos\u001b[39m\u001b[34m(videos, titles, width, height, downsample, columns, fps, bps, qp, codec, ylabel, html_class, return_html, **kwargs)\u001b[39m\n\u001b[32m   1946\u001b[39m   video = [resize_image(image, (h, w)) \u001b[38;5;28;01mfor\u001b[39;00m image \u001b[38;5;129;01min\u001b[39;00m video]\n\u001b[32m   1947\u001b[39m   first_image = video[\u001b[32m0\u001b[39m]\n\u001b[32m-> \u001b[39m\u001b[32m1948\u001b[39m data = \u001b[43mcompress_video\u001b[49m\u001b[43m(\u001b[49m\n\u001b[32m   1949\u001b[39m \u001b[43m    \u001b[49m\u001b[43mvideo\u001b[49m\u001b[43m,\u001b[49m\u001b[43m \u001b[49m\u001b[43mmetadata\u001b[49m\u001b[43m=\u001b[49m\u001b[43mmetadata\u001b[49m\u001b[43m,\u001b[49m\u001b[43m \u001b[49m\u001b[43mfps\u001b[49m\u001b[43m=\u001b[49m\u001b[43mfps\u001b[49m\u001b[43m,\u001b[49m\u001b[43m \u001b[49m\u001b[43mbps\u001b[49m\u001b[43m=\u001b[49m\u001b[43mbps\u001b[49m\u001b[43m,\u001b[49m\u001b[43m \u001b[49m\u001b[43mqp\u001b[49m\u001b[43m=\u001b[49m\u001b[43mqp\u001b[49m\u001b[43m,\u001b[49m\u001b[43m \u001b[49m\u001b[43mcodec\u001b[49m\u001b[43m=\u001b[49m\u001b[43mcodec\u001b[49m\n\u001b[32m   1950\u001b[39m \u001b[43m\u001b[49m\u001b[43m)\u001b[49m\n\u001b[32m   1951\u001b[39m \u001b[38;5;28;01mif\u001b[39;00m title \u001b[38;5;129;01mis\u001b[39;00m \u001b[38;5;129;01mnot\u001b[39;00m \u001b[38;5;28;01mNone\u001b[39;00m \u001b[38;5;129;01mand\u001b[39;00m _config.show_save_dir:\n\u001b[32m   1952\u001b[39m   suffix = _filename_suffix_from_codec(codec)\n",
      "\u001b[36mFile \u001b[39m\u001b[32m~/miniconda3/envs/neuro/lib/python3.12/site-packages/mediapy/__init__.py:1785\u001b[39m, in \u001b[36mcompress_video\u001b[39m\u001b[34m(images, codec, **kwargs)\u001b[39m\n\u001b[32m   1783\u001b[39m \u001b[38;5;28;01mwith\u001b[39;00m tempfile.TemporaryDirectory() \u001b[38;5;28;01mas\u001b[39;00m directory_name:\n\u001b[32m   1784\u001b[39m   tmp_path = pathlib.Path(directory_name) / \u001b[33mf\u001b[39m\u001b[33m'\u001b[39m\u001b[33mfile\u001b[39m\u001b[38;5;132;01m{\u001b[39;00msuffix\u001b[38;5;132;01m}\u001b[39;00m\u001b[33m'\u001b[39m\n\u001b[32m-> \u001b[39m\u001b[32m1785\u001b[39m   \u001b[43mwrite_video\u001b[49m\u001b[43m(\u001b[49m\u001b[43mtmp_path\u001b[49m\u001b[43m,\u001b[49m\u001b[43m \u001b[49m\u001b[43mimages\u001b[49m\u001b[43m,\u001b[49m\u001b[43m \u001b[49m\u001b[43mcodec\u001b[49m\u001b[43m=\u001b[49m\u001b[43mcodec\u001b[49m\u001b[43m,\u001b[49m\u001b[43m \u001b[49m\u001b[43m*\u001b[49m\u001b[43m*\u001b[49m\u001b[43mkwargs\u001b[49m\u001b[43m)\u001b[49m\n\u001b[32m   1786\u001b[39m   \u001b[38;5;28;01mreturn\u001b[39;00m tmp_path.read_bytes()\n",
      "\u001b[36mFile \u001b[39m\u001b[32m~/miniconda3/envs/neuro/lib/python3.12/site-packages/mediapy/__init__.py:1755\u001b[39m, in \u001b[36mwrite_video\u001b[39m\u001b[34m(path, images, **kwargs)\u001b[39m\n\u001b[32m   1753\u001b[39m   dtype = np.dtype(np.uint16)\n\u001b[32m   1754\u001b[39m kwargs = {\u001b[33m'\u001b[39m\u001b[33mmetadata\u001b[39m\u001b[33m'\u001b[39m: \u001b[38;5;28mgetattr\u001b[39m(images, \u001b[33m'\u001b[39m\u001b[33mmetadata\u001b[39m\u001b[33m'\u001b[39m, \u001b[38;5;28;01mNone\u001b[39;00m), **kwargs}\n\u001b[32m-> \u001b[39m\u001b[32m1755\u001b[39m \u001b[38;5;28;01mwith\u001b[39;00m VideoWriter(path, shape=shape, dtype=dtype, **kwargs) \u001b[38;5;28;01mas\u001b[39;00m writer:\n\u001b[32m   1756\u001b[39m   \u001b[38;5;28;01mfor\u001b[39;00m image \u001b[38;5;129;01min\u001b[39;00m images:\n\u001b[32m   1757\u001b[39m     writer.add_image(image)\n",
      "\u001b[36mFile \u001b[39m\u001b[32m~/miniconda3/envs/neuro/lib/python3.12/site-packages/mediapy/__init__.py:1622\u001b[39m, in \u001b[36mVideoWriter.__exit__\u001b[39m\u001b[34m(self, *_)\u001b[39m\n\u001b[32m   1621\u001b[39m \u001b[38;5;28;01mdef\u001b[39;00m\u001b[38;5;250m \u001b[39m\u001b[34m__exit__\u001b[39m(\u001b[38;5;28mself\u001b[39m, *_: Any) -> \u001b[38;5;28;01mNone\u001b[39;00m:\n\u001b[32m-> \u001b[39m\u001b[32m1622\u001b[39m   \u001b[38;5;28;43mself\u001b[39;49m\u001b[43m.\u001b[49m\u001b[43mclose\u001b[49m\u001b[43m(\u001b[49m\u001b[43m)\u001b[49m\n",
      "\u001b[36mFile \u001b[39m\u001b[32m~/miniconda3/envs/neuro/lib/python3.12/site-packages/mediapy/__init__.py:1679\u001b[39m, in \u001b[36mVideoWriter.close\u001b[39m\u001b[34m(self)\u001b[39m\n\u001b[32m   1677\u001b[39m   \u001b[38;5;28;01massert\u001b[39;00m stderr \u001b[38;5;129;01mis\u001b[39;00m \u001b[38;5;129;01mnot\u001b[39;00m \u001b[38;5;28;01mNone\u001b[39;00m\n\u001b[32m   1678\u001b[39m   s = stderr.read().decode(\u001b[33m'\u001b[39m\u001b[33mutf-8\u001b[39m\u001b[33m'\u001b[39m)\n\u001b[32m-> \u001b[39m\u001b[32m1679\u001b[39m   \u001b[38;5;28;01mraise\u001b[39;00m \u001b[38;5;167;01mRuntimeError\u001b[39;00m(\u001b[33mf\u001b[39m\u001b[33m\"\u001b[39m\u001b[33mError writing \u001b[39m\u001b[33m'\u001b[39m\u001b[38;5;132;01m{\u001b[39;00m\u001b[38;5;28mself\u001b[39m.path\u001b[38;5;132;01m}\u001b[39;00m\u001b[33m'\u001b[39m\u001b[33m: \u001b[39m\u001b[38;5;132;01m{\u001b[39;00ms\u001b[38;5;132;01m}\u001b[39;00m\u001b[33m\"\u001b[39m)\n\u001b[32m   1680\u001b[39m \u001b[38;5;28mself\u001b[39m._popen.\u001b[34m__exit__\u001b[39m(\u001b[38;5;28;01mNone\u001b[39;00m, \u001b[38;5;28;01mNone\u001b[39;00m, \u001b[38;5;28;01mNone\u001b[39;00m)\n\u001b[32m   1681\u001b[39m \u001b[38;5;28mself\u001b[39m._popen = \u001b[38;5;28;01mNone\u001b[39;00m\n",
      "\u001b[31mRuntimeError\u001b[39m: Error writing '/tmp/tmpi2cbo1yt/file.mp4': [libopenh264 @ 0x565682cec080] Incorrect library version loaded\nError initializing output stream 0:0 -- Error while opening encoder for output stream #0:0 - maybe incorrect parameters such as bit_rate, rate, width or height\n"
     ]
    }
   ],
   "source": [
    "play_video(\"raw videos/Dataset_AI_Masterchallange 2025/video_20250328_011625.mp4\")"
   ]
  },
  {
   "cell_type": "markdown",
   "metadata": {},
   "source": [
    "# Dataset"
   ]
  },
  {
   "cell_type": "code",
   "execution_count": null,
   "metadata": {},
   "outputs": [],
   "source": [
    "class VideoDataset(Dataset):\n",
    "    def __init__(self, data_dir, transform=None):\n",
    "        self.data_dir = data_dir\n",
    "        self.transform = transform\n",
    "        self.video_files, self.video_labels = self._load_video_files(data_dir)\n",
    "        \n",
    "    def _load_video_files(self, data_dir):\n",
    "        self.video_dir = os.path.join(data_dir, \"raw videos\")\n",
    "\n",
    "        video_files = [name.split(\"/\")[-1] for name in os.listdir(self.video_dir) if name.endswith(\".mp4\")]\n",
    "\n",
    "        labels_df = pd.read_csv(os.path.join(data_dir, \"annotations_mid.csv\"))\n",
    "\n",
    "        labels = defaultdict(tuple)\n",
    "        for row in labels_df.iterrows():\n",
    "            labels[row[\"filename\"]] = (row[\"label\"], row[\"edge_case\"])\n",
    "        \n",
    "        return video_files, labels\n",
    "    \n",
    "    def __getitem__(self, index):\n",
    "        video_path = os.path.join(self.video_dir, self.video_files[index])\n",
    "        label, edge_case = self.labels[self.video_files[index]]\n",
    "        cap = cv2.VideoCapture(video_path)\n",
    "\n",
    "        ret = True\n",
    "        frames = []\n",
    "        while ret:\n",
    "            ret, frame = cap.read()\n",
    "\n",
    "            if self.transform:\n",
    "                frame = self.transform(frame)\n",
    "        \n",
    "        frames.append(frame)\n",
    "\n",
    "        label = [label]*len(frames)\n",
    "        edge_case = [edge_case]*len(frames)\n",
    "\n",
    "        return frames, label, edge_case\n",
    "    \n",
    "    def get_statistics(self):\n",
    "        data_size = len(self.labels)\n",
    "\n",
    "        _sums = []\n",
    "        _frame_sizes = []\n",
    "\n",
    "        for i in range(data_size):\n",
    "            frames, _, _  = self.__getitem__(i)\n",
    "            _sums.append(np.sum(frames))\n",
    "            _frame_sizes.append(len(frames))\n",
    "        _sums = np.array(_sums)\n",
    "        _frame_sizes = np.array(_frame_sizes)\n",
    "        _total_size = np.sum(_frame_sizes)\n",
    "        mean = np.sum(_sums*_frame_sizes/_total_size)\n",
    "            \n"
   ]
  }
 ],
 "metadata": {
  "kaggle": {
   "accelerator": "none",
   "dataSources": [],
   "dockerImageVersionId": 31012,
   "isGpuEnabled": false,
   "isInternetEnabled": true,
   "language": "python",
   "sourceType": "notebook"
  },
  "kernelspec": {
   "display_name": "neuro",
   "language": "python",
   "name": "python3"
  },
  "language_info": {
   "codemirror_mode": {
    "name": "ipython",
    "version": 3
   },
   "file_extension": ".py",
   "mimetype": "text/x-python",
   "name": "python",
   "nbconvert_exporter": "python",
   "pygments_lexer": "ipython3",
   "version": "3.12.9"
  }
 },
 "nbformat": 4,
 "nbformat_minor": 4
}
