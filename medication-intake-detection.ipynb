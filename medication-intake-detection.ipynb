{
 "cells": [
  {
   "cell_type": "code",
   "execution_count": 1,
   "metadata": {
    "execution": {
     "iopub.execute_input": "2025-04-24T07:30:06.880141Z",
     "iopub.status.busy": "2025-04-24T07:30:06.879766Z",
     "iopub.status.idle": "2025-04-24T07:30:15.179766Z",
     "shell.execute_reply": "2025-04-24T07:30:15.178204Z",
     "shell.execute_reply.started": "2025-04-24T07:30:06.880116Z"
    },
    "trusted": true
   },
   "outputs": [
    {
     "name": "stdout",
     "output_type": "stream",
     "text": [
      "Requirement already satisfied: mediapy in /home/giedriusmirklys/miniconda3/envs/neuro/lib/python3.12/site-packages (1.2.3)\n",
      "Requirement already satisfied: ipython in /home/giedriusmirklys/miniconda3/envs/neuro/lib/python3.12/site-packages (from mediapy) (9.1.0)\n",
      "Requirement already satisfied: matplotlib in /home/giedriusmirklys/miniconda3/envs/neuro/lib/python3.12/site-packages (from mediapy) (3.10.1)\n",
      "Requirement already satisfied: numpy in /home/giedriusmirklys/miniconda3/envs/neuro/lib/python3.12/site-packages (from mediapy) (2.2.4)\n",
      "Requirement already satisfied: Pillow in /home/giedriusmirklys/miniconda3/envs/neuro/lib/python3.12/site-packages (from mediapy) (11.1.0)\n",
      "Requirement already satisfied: decorator in /home/giedriusmirklys/miniconda3/envs/neuro/lib/python3.12/site-packages (from ipython->mediapy) (5.2.1)\n",
      "Requirement already satisfied: ipython-pygments-lexers in /home/giedriusmirklys/miniconda3/envs/neuro/lib/python3.12/site-packages (from ipython->mediapy) (1.1.1)\n",
      "Requirement already satisfied: jedi>=0.16 in /home/giedriusmirklys/miniconda3/envs/neuro/lib/python3.12/site-packages (from ipython->mediapy) (0.19.2)\n",
      "Requirement already satisfied: matplotlib-inline in /home/giedriusmirklys/miniconda3/envs/neuro/lib/python3.12/site-packages (from ipython->mediapy) (0.1.7)\n",
      "Requirement already satisfied: pexpect>4.3 in /home/giedriusmirklys/miniconda3/envs/neuro/lib/python3.12/site-packages (from ipython->mediapy) (4.9.0)\n",
      "Requirement already satisfied: prompt_toolkit<3.1.0,>=3.0.41 in /home/giedriusmirklys/miniconda3/envs/neuro/lib/python3.12/site-packages (from ipython->mediapy) (3.0.50)\n",
      "Requirement already satisfied: pygments>=2.4.0 in /home/giedriusmirklys/miniconda3/envs/neuro/lib/python3.12/site-packages (from ipython->mediapy) (2.19.1)\n",
      "Requirement already satisfied: stack_data in /home/giedriusmirklys/miniconda3/envs/neuro/lib/python3.12/site-packages (from ipython->mediapy) (0.6.3)\n",
      "Requirement already satisfied: traitlets>=5.13.0 in /home/giedriusmirklys/miniconda3/envs/neuro/lib/python3.12/site-packages (from ipython->mediapy) (5.14.3)\n",
      "Requirement already satisfied: contourpy>=1.0.1 in /home/giedriusmirklys/miniconda3/envs/neuro/lib/python3.12/site-packages (from matplotlib->mediapy) (1.3.1)\n",
      "Requirement already satisfied: cycler>=0.10 in /home/giedriusmirklys/miniconda3/envs/neuro/lib/python3.12/site-packages (from matplotlib->mediapy) (0.12.1)\n",
      "Requirement already satisfied: fonttools>=4.22.0 in /home/giedriusmirklys/miniconda3/envs/neuro/lib/python3.12/site-packages (from matplotlib->mediapy) (4.57.0)\n",
      "Requirement already satisfied: kiwisolver>=1.3.1 in /home/giedriusmirklys/miniconda3/envs/neuro/lib/python3.12/site-packages (from matplotlib->mediapy) (1.4.8)\n",
      "Requirement already satisfied: packaging>=20.0 in /home/giedriusmirklys/miniconda3/envs/neuro/lib/python3.12/site-packages (from matplotlib->mediapy) (24.2)\n",
      "Requirement already satisfied: pyparsing>=2.3.1 in /home/giedriusmirklys/miniconda3/envs/neuro/lib/python3.12/site-packages (from matplotlib->mediapy) (3.2.3)\n",
      "Requirement already satisfied: python-dateutil>=2.7 in /home/giedriusmirklys/miniconda3/envs/neuro/lib/python3.12/site-packages (from matplotlib->mediapy) (2.9.0.post0)\n",
      "Requirement already satisfied: parso<0.9.0,>=0.8.4 in /home/giedriusmirklys/miniconda3/envs/neuro/lib/python3.12/site-packages (from jedi>=0.16->ipython->mediapy) (0.8.4)\n",
      "Requirement already satisfied: ptyprocess>=0.5 in /home/giedriusmirklys/miniconda3/envs/neuro/lib/python3.12/site-packages (from pexpect>4.3->ipython->mediapy) (0.7.0)\n",
      "Requirement already satisfied: wcwidth in /home/giedriusmirklys/miniconda3/envs/neuro/lib/python3.12/site-packages (from prompt_toolkit<3.1.0,>=3.0.41->ipython->mediapy) (0.2.13)\n",
      "Requirement already satisfied: six>=1.5 in /home/giedriusmirklys/miniconda3/envs/neuro/lib/python3.12/site-packages (from python-dateutil>=2.7->matplotlib->mediapy) (1.17.0)\n",
      "Requirement already satisfied: executing>=1.2.0 in /home/giedriusmirklys/miniconda3/envs/neuro/lib/python3.12/site-packages (from stack_data->ipython->mediapy) (2.2.0)\n",
      "Requirement already satisfied: asttokens>=2.1.0 in /home/giedriusmirklys/miniconda3/envs/neuro/lib/python3.12/site-packages (from stack_data->ipython->mediapy) (3.0.0)\n",
      "Requirement already satisfied: pure-eval in /home/giedriusmirklys/miniconda3/envs/neuro/lib/python3.12/site-packages (from stack_data->ipython->mediapy) (0.2.3)\n",
      "Requirement already satisfied: gdown in /home/giedriusmirklys/miniconda3/envs/neuro/lib/python3.12/site-packages (5.2.0)\n",
      "Requirement already satisfied: beautifulsoup4 in /home/giedriusmirklys/miniconda3/envs/neuro/lib/python3.12/site-packages (from gdown) (4.13.3)\n",
      "Requirement already satisfied: filelock in /home/giedriusmirklys/miniconda3/envs/neuro/lib/python3.12/site-packages (from gdown) (3.13.1)\n",
      "Requirement already satisfied: requests[socks] in /home/giedriusmirklys/miniconda3/envs/neuro/lib/python3.12/site-packages (from gdown) (2.32.3)\n",
      "Requirement already satisfied: tqdm in /home/giedriusmirklys/miniconda3/envs/neuro/lib/python3.12/site-packages (from gdown) (4.67.1)\n",
      "Requirement already satisfied: soupsieve>1.2 in /home/giedriusmirklys/miniconda3/envs/neuro/lib/python3.12/site-packages (from beautifulsoup4->gdown) (2.6)\n",
      "Requirement already satisfied: typing-extensions>=4.0.0 in /home/giedriusmirklys/miniconda3/envs/neuro/lib/python3.12/site-packages (from beautifulsoup4->gdown) (4.12.2)\n",
      "Requirement already satisfied: charset-normalizer<4,>=2 in /home/giedriusmirklys/miniconda3/envs/neuro/lib/python3.12/site-packages (from requests[socks]->gdown) (3.3.2)\n",
      "Requirement already satisfied: idna<4,>=2.5 in /home/giedriusmirklys/miniconda3/envs/neuro/lib/python3.12/site-packages (from requests[socks]->gdown) (3.7)\n",
      "Requirement already satisfied: urllib3<3,>=1.21.1 in /home/giedriusmirklys/miniconda3/envs/neuro/lib/python3.12/site-packages (from requests[socks]->gdown) (2.3.0)\n",
      "Requirement already satisfied: certifi>=2017.4.17 in /home/giedriusmirklys/miniconda3/envs/neuro/lib/python3.12/site-packages (from requests[socks]->gdown) (2025.1.31)\n",
      "Requirement already satisfied: PySocks!=1.5.7,>=1.5.6 in /home/giedriusmirklys/miniconda3/envs/neuro/lib/python3.12/site-packages (from requests[socks]->gdown) (1.7.1)\n"
     ]
    }
   ],
   "source": [
    "!pip install mediapy\n",
    "!pip install -U gdown"
   ]
  },
  {
   "cell_type": "code",
   "execution_count": 1,
   "metadata": {
    "execution": {
     "iopub.execute_input": "2025-04-24T07:30:15.182224Z",
     "iopub.status.busy": "2025-04-24T07:30:15.181833Z",
     "iopub.status.idle": "2025-04-24T07:30:15.231043Z",
     "shell.execute_reply": "2025-04-24T07:30:15.230090Z",
     "shell.execute_reply.started": "2025-04-24T07:30:15.182190Z"
    },
    "trusted": true
   },
   "outputs": [],
   "source": [
    "import os\n",
    "from zipfile import ZipFile \n",
    "import mediapy as media\n",
    "\n",
    "# pytorch dataset\n",
    "from torch.utils.data import Dataset\n",
    "import torch\n",
    "import torchvision.transforms as transforms\n",
    "import numpy as np\n",
    "import cv2\n",
    "import matplotlib.pyplot as plt\n",
    "import pandas as pd\n",
    "from collections import defaultdict"
   ]
  },
  {
   "cell_type": "markdown",
   "metadata": {},
   "source": [
    "## Get raw videos from google drive"
   ]
  },
  {
   "cell_type": "code",
   "execution_count": 3,
   "metadata": {
    "execution": {
     "iopub.execute_input": "2025-04-24T07:26:31.779214Z",
     "iopub.status.busy": "2025-04-24T07:26:31.778997Z",
     "iopub.status.idle": "2025-04-24T07:26:46.577421Z",
     "shell.execute_reply": "2025-04-24T07:26:46.576198Z",
     "shell.execute_reply.started": "2025-04-24T07:26:31.779196Z"
    },
    "trusted": true
   },
   "outputs": [
    {
     "name": "stdout",
     "output_type": "stream",
     "text": [
      "Retrieving folder contents\n",
      "Retrieving folder 11BvoNE9dgq-qPrLqQED5P1N3UU9EP8vN data\n",
      "Retrieving folder 1Sv_zHg8Ds2B7RDphAZVRpO2R-fpBnwz7 raw videos\n",
      "Processing file 1ENHn_C8em0Y0pRAEMXU5kvIQ-SZm8Qe8 Dataset_AI_Masterchallange 2025-20250424T063117Z-001.zip\n",
      "Retrieving folder contents completed\n",
      "Building directory structure\n",
      "Building directory structure completed\n",
      "Downloading...\n",
      "From (original): https://drive.google.com/uc?id=1ENHn_C8em0Y0pRAEMXU5kvIQ-SZm8Qe8\n",
      "From (redirected): https://drive.google.com/uc?id=1ENHn_C8em0Y0pRAEMXU5kvIQ-SZm8Qe8&confirm=t&uuid=dab1f0ba-c7af-4fc0-a00b-d3c0ad47658b\n",
      "To: /home/giedriusmirklys/medication-intake-detection-master-challenge/AI in PWF/data/raw videos/Dataset_AI_Masterchallange 2025-20250424T063117Z-001.zip\n",
      "100%|██████████████████████████████████████| 1.99G/1.99G [01:30<00:00, 22.1MB/s]\n",
      "Download completed\n"
     ]
    }
   ],
   "source": [
    "!gdown https://drive.google.com/drive/folders/1Y8W5yiAxTDiRzx_9-caqa9dNhmo4dYcS --folder "
   ]
  },
  {
   "cell_type": "code",
   "execution_count": 2,
   "metadata": {
    "execution": {
     "iopub.execute_input": "2025-04-24T07:26:46.580592Z",
     "iopub.status.busy": "2025-04-24T07:26:46.580300Z",
     "iopub.status.idle": "2025-04-24T07:26:46.587847Z",
     "shell.execute_reply": "2025-04-24T07:26:46.586482Z",
     "shell.execute_reply.started": "2025-04-24T07:26:46.580566Z"
    },
    "trusted": true
   },
   "outputs": [],
   "source": [
    "PATH_CWD = os.getcwd()\n",
    "PATH_DATA = os.path.join(PATH_CWD + \"/AI in PWF/data/\")"
   ]
  },
  {
   "cell_type": "code",
   "execution_count": 3,
   "metadata": {},
   "outputs": [
    {
     "data": {
      "text/plain": [
       "'/home/giedriusmirklys/medication-intake-detection-master-challenge/AI in PWF/data/'"
      ]
     },
     "execution_count": 3,
     "metadata": {},
     "output_type": "execute_result"
    }
   ],
   "source": [
    "PATH_DATA"
   ]
  },
  {
   "cell_type": "code",
   "execution_count": 5,
   "metadata": {
    "execution": {
     "iopub.execute_input": "2025-04-24T07:26:46.589565Z",
     "iopub.status.busy": "2025-04-24T07:26:46.589206Z",
     "iopub.status.idle": "2025-04-24T07:26:54.290596Z",
     "shell.execute_reply": "2025-04-24T07:26:54.289653Z",
     "shell.execute_reply.started": "2025-04-24T07:26:46.589535Z"
    },
    "trusted": true
   },
   "outputs": [],
   "source": [
    "video_zip_file = PATH_DATA + \"raw videos/Dataset_AI_Masterchallange 2025-20250424T063117Z-001.zip\"\n",
    "with ZipFile(video_zip_file, \"r\") as video_zip:\n",
    "    video_zip.extractall(path=PATH_DATA+\"raw videos\")"
   ]
  },
  {
   "cell_type": "code",
   "execution_count": 6,
   "metadata": {
    "execution": {
     "iopub.execute_input": "2025-04-24T07:26:54.292272Z",
     "iopub.status.busy": "2025-04-24T07:26:54.291925Z",
     "iopub.status.idle": "2025-04-24T07:26:54.810784Z",
     "shell.execute_reply": "2025-04-24T07:26:54.809533Z",
     "shell.execute_reply.started": "2025-04-24T07:26:54.292229Z"
    },
    "trusted": true
   },
   "outputs": [],
   "source": [
    "# os.remove(video_zip_file)"
   ]
  },
  {
   "cell_type": "markdown",
   "metadata": {},
   "source": [
    "## Helper functions"
   ]
  },
  {
   "cell_type": "code",
   "execution_count": 4,
   "metadata": {
    "execution": {
     "iopub.execute_input": "2025-04-24T07:31:24.062878Z",
     "iopub.status.busy": "2025-04-24T07:31:24.062526Z",
     "iopub.status.idle": "2025-04-24T07:31:24.069211Z",
     "shell.execute_reply": "2025-04-24T07:31:24.067734Z",
     "shell.execute_reply.started": "2025-04-24T07:31:24.062855Z"
    },
    "trusted": true
   },
   "outputs": [],
   "source": [
    "def play_video(fname):\n",
    "    fname = PATH_DATA + fname\n",
    "    video = media.read_video(fname)\n",
    "    media.show_video(video, title=fname.split(\"/\")[-1].split(\".\")[0], fps=60, width=500)"
   ]
  },
  {
   "cell_type": "code",
   "execution_count": null,
   "metadata": {
    "execution": {
     "iopub.execute_input": "2025-04-24T07:31:26.350413Z",
     "iopub.status.busy": "2025-04-24T07:31:26.350125Z",
     "iopub.status.idle": "2025-04-24T07:32:26.820223Z",
     "shell.execute_reply": "2025-04-24T07:32:26.818836Z",
     "shell.execute_reply.started": "2025-04-24T07:31:26.350394Z"
    },
    "trusted": true
   },
   "outputs": [],
   "source": [
    "play_video(\"raw videos/Dataset_AI_Masterchallange 2025/video_20250328_011625.mp4\")"
   ]
  },
  {
   "cell_type": "markdown",
   "metadata": {},
   "source": [
    "# Dataset"
   ]
  },
  {
   "cell_type": "code",
   "execution_count": null,
   "metadata": {},
   "outputs": [],
   "source": [
    "class VideoDataset(Dataset):\n",
    "    def __init__(self, data_dir, frames_per_video: int = 60, transform=None):\n",
    "        self.data_dir = data_dir\n",
    "        self.transform = transform\n",
    "        self.video_files, self.video_labels = self._load_video_files(data_dir)\n",
    "        \n",
    "    def _load_video_files(self, data_dir):\n",
    "        self.video_dir = os.path.join(data_dir, \"raw videos\")\n",
    "\n",
    "        video_files = [name.split(\"/\")[-1] for name in os.listdir(self.video_dir) if name.endswith(\".mp4\")]\n",
    "\n",
    "        labels_df = pd.read_csv(os.path.join(data_dir, \"annotations_mid.csv\"))\n",
    "\n",
    "        labels = defaultdict(tuple)\n",
    "        for _, row in labels_df.iterrows():\n",
    "            labels[row[\"filename\"]] = (row[\"label\"], row[\"edge_case\"])\n",
    "        \n",
    "        return video_files, labels\n",
    "    \n",
    "    def __getitem__(self, index):\n",
    "        assert self.set_mean is not None, \"Please call get_statistics() before __getitem__(), or set them manually\"\n",
    "        assert self.set_std is not None, \"Please call get_statistics() before __getitem__(), or set them manually\"\n",
    "\n",
    "        frames, label, edge_case = self.__load(index)\n",
    "        # Normalize frames\n",
    "        frames = (frames - self.set_mean) / self.set_std\n",
    "        if self.transform:\n",
    "            frames = [self.transform(frame) for frame in frames]\n",
    "\n",
    "        return frames, label, edge_case\n",
    "    \n",
    "    def __len__(self):\n",
    "        return len(self.video_files)\n",
    "    \n",
    "    def __load(self, index):\n",
    "        video_path = os.path.join(self.video_dir, self.video_files[index])\n",
    "        label, edge_case = self.video_labels[self.video_files[index]]\n",
    "        cap = cv2.VideoCapture(video_path)\n",
    "\n",
    "        ret = True\n",
    "        frames = []\n",
    "        while ret:\n",
    "            ret, frame = cap.read()\n",
    "            if ret:\n",
    "                frame = cv2.cvtColor(frame, cv2.COLOR_BGR2RGB)\n",
    "                frames.append(frame)\n",
    "        # If the video has less than 60 frames, pad with zeros\n",
    "        if len(frames) < 60:\n",
    "            frames += [np.zeros_like(frames[0])] * (60 - len(frames))\n",
    "        # If the video has more than 60 frames, sparse it\n",
    "        # to 60 frames by taking every nth frame\n",
    "        elif len(frames) > 60:\n",
    "            step = len(frames) // 60\n",
    "            frames = [frames[i] for i in range(0, len(frames), step)]\n",
    "        \n",
    "        # Convert to numpy array\n",
    "        frames = np.array(frames)\n",
    "        cap.release()\n",
    "        return frames, label, edge_case\n",
    "    \n",
    "    def get_statistics(self):\n",
    "        data_size = len(self.video_files)\n",
    "        total_sum = np.zeros(3)\n",
    "        total_sq_sum = np.zeros(3)\n",
    "        total_count = np.zeros(3)\n",
    "\n",
    "        for i in range(data_size):\n",
    "            frames, _, _ = self.__load(i)\n",
    "            frames_np = np.array(frames)  # shape: (num_frames, H, W, C)\n",
    "            # Reshape to (-1, 3) to flatten all pixels, then sum per channel\n",
    "            pixels = frames_np.reshape(-1, frames_np.shape[-1])\n",
    "            total_sum += pixels.sum(axis=0)\n",
    "            total_sq_sum += (pixels ** 2).sum(axis=0)\n",
    "            total_count += pixels.shape[0]\n",
    "\n",
    "        self.set_mean = total_sum / total_count\n",
    "        self.set_std = np.sqrt(total_sq_sum / total_count - self.set_mean ** 2)\n",
    "            \n"
   ]
  },
  {
   "cell_type": "code",
   "execution_count": 24,
   "metadata": {},
   "outputs": [],
   "source": [
    "_set = VideoDataset(data_dir=PATH_DATA)"
   ]
  },
  {
   "cell_type": "code",
   "execution_count": null,
   "metadata": {},
   "outputs": [],
   "source": [
    "_set.get_statistics()"
   ]
  }
 ],
 "metadata": {
  "kaggle": {
   "accelerator": "none",
   "dataSources": [],
   "dockerImageVersionId": 31012,
   "isGpuEnabled": false,
   "isInternetEnabled": true,
   "language": "python",
   "sourceType": "notebook"
  },
  "kernelspec": {
   "display_name": "neuro",
   "language": "python",
   "name": "python3"
  },
  "language_info": {
   "codemirror_mode": {
    "name": "ipython",
    "version": 3
   },
   "file_extension": ".py",
   "mimetype": "text/x-python",
   "name": "python",
   "nbconvert_exporter": "python",
   "pygments_lexer": "ipython3",
   "version": "3.12.9"
  }
 },
 "nbformat": 4,
 "nbformat_minor": 4
}
